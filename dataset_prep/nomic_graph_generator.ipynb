{
 "cells": [
  {
   "cell_type": "code",
   "execution_count": 1,
   "metadata": {},
   "outputs": [
    {
     "name": "stdout",
     "output_type": "stream",
     "text": [
      "Requirement already satisfied: nomic in c:\\users\\adithya\\appdata\\roaming\\python\\python311\\site-packages (2.0.14)\n",
      "Requirement already satisfied: click in c:\\python311\\lib\\site-packages (from nomic) (8.1.7)\n",
      "Requirement already satisfied: jsonlines in c:\\users\\adithya\\appdata\\roaming\\python\\python311\\site-packages (from nomic) (4.0.0)\n",
      "Requirement already satisfied: loguru in c:\\python311\\lib\\site-packages (from nomic) (0.7.0)\n",
      "Requirement already satisfied: rich in c:\\python311\\lib\\site-packages (from nomic) (13.0.1)\n",
      "Requirement already satisfied: requests in c:\\python311\\lib\\site-packages (from nomic) (2.31.0)\n",
      "Requirement already satisfied: numpy in c:\\python311\\lib\\site-packages (from nomic) (1.23.5)\n",
      "Requirement already satisfied: pandas in c:\\python311\\lib\\site-packages (from nomic) (1.5.3)\n",
      "Requirement already satisfied: pydantic in c:\\python311\\lib\\site-packages (from nomic) (1.10.13)\n",
      "Requirement already satisfied: wonderwords in c:\\python311\\lib\\site-packages (from nomic) (2.2.0)\n",
      "Requirement already satisfied: tqdm in c:\\python311\\lib\\site-packages (from nomic) (4.65.0)\n",
      "Requirement already satisfied: cohere in c:\\users\\adithya\\appdata\\roaming\\python\\python311\\site-packages (from nomic) (4.32)\n",
      "Requirement already satisfied: pyarrow in c:\\python311\\lib\\site-packages (from nomic) (12.0.1)\n",
      "Requirement already satisfied: pillow in c:\\python311\\lib\\site-packages (from nomic) (9.5.0)\n",
      "Requirement already satisfied: colorama in c:\\python311\\lib\\site-packages (from click->nomic) (0.4.6)\n",
      "Requirement already satisfied: aiohttp<4.0,>=3.0 in c:\\python311\\lib\\site-packages (from cohere->nomic) (3.8.4)\n",
      "Requirement already satisfied: backoff<3.0,>=2.0 in c:\\python311\\lib\\site-packages (from cohere->nomic) (2.2.1)\n",
      "Requirement already satisfied: fastavro==1.8.2 in c:\\users\\adithya\\appdata\\roaming\\python\\python311\\site-packages (from cohere->nomic) (1.8.2)\n",
      "Requirement already satisfied: importlib_metadata<7.0,>=6.0 in c:\\python311\\lib\\site-packages (from cohere->nomic) (6.8.0)\n",
      "Requirement already satisfied: urllib3<3,>=1.26 in c:\\python311\\lib\\site-packages (from cohere->nomic) (1.26.16)\n",
      "Requirement already satisfied: charset-normalizer<4,>=2 in c:\\python311\\lib\\site-packages (from requests->nomic) (3.1.0)\n",
      "Requirement already satisfied: idna<4,>=2.5 in c:\\python311\\lib\\site-packages (from requests->nomic) (3.4)\n",
      "Requirement already satisfied: certifi>=2017.4.17 in c:\\python311\\lib\\site-packages (from requests->nomic) (2022.12.7)\n",
      "Requirement already satisfied: attrs>=19.2.0 in c:\\python311\\lib\\site-packages (from jsonlines->nomic) (22.2.0)\n",
      "Requirement already satisfied: win32-setctime>=1.0.0 in c:\\python311\\lib\\site-packages (from loguru->nomic) (1.1.0)\n",
      "Requirement already satisfied: python-dateutil>=2.8.1 in c:\\python311\\lib\\site-packages (from pandas->nomic) (2.8.2)\n",
      "Requirement already satisfied: pytz>=2020.1 in c:\\python311\\lib\\site-packages (from pandas->nomic) (2023.3)\n",
      "Requirement already satisfied: typing-extensions>=4.2.0 in c:\\python311\\lib\\site-packages (from pydantic->nomic) (4.7.1)\n",
      "Requirement already satisfied: commonmark<0.10.0,>=0.9.0 in c:\\python311\\lib\\site-packages (from rich->nomic) (0.9.1)\n",
      "Requirement already satisfied: pygments<3.0.0,>=2.6.0 in c:\\users\\adithya\\appdata\\roaming\\python\\python311\\site-packages (from rich->nomic) (2.14.0)\n",
      "Requirement already satisfied: multidict<7.0,>=4.5 in c:\\python311\\lib\\site-packages (from aiohttp<4.0,>=3.0->cohere->nomic) (6.0.4)\n",
      "Requirement already satisfied: async-timeout<5.0,>=4.0.0a3 in c:\\python311\\lib\\site-packages (from aiohttp<4.0,>=3.0->cohere->nomic) (4.0.2)\n",
      "Requirement already satisfied: yarl<2.0,>=1.0 in c:\\python311\\lib\\site-packages (from aiohttp<4.0,>=3.0->cohere->nomic) (1.8.2)\n",
      "Requirement already satisfied: frozenlist>=1.1.1 in c:\\python311\\lib\\site-packages (from aiohttp<4.0,>=3.0->cohere->nomic) (1.3.3)\n",
      "Requirement already satisfied: aiosignal>=1.1.2 in c:\\python311\\lib\\site-packages (from aiohttp<4.0,>=3.0->cohere->nomic) (1.3.1)\n",
      "Requirement already satisfied: zipp>=0.5 in c:\\python311\\lib\\site-packages (from importlib_metadata<7.0,>=6.0->cohere->nomic) (3.15.0)\n",
      "Requirement already satisfied: six>=1.5 in c:\\python311\\lib\\site-packages (from python-dateutil>=2.8.1->pandas->nomic) (1.16.0)\n"
     ]
    }
   ],
   "source": [
    "!pip install nomic --user"
   ]
  },
  {
   "cell_type": "code",
   "execution_count": null,
   "metadata": {},
   "outputs": [],
   "source": [
    "# !nomic login [TOKEN]\n",
    "# or\n",
    "\n",
    "nomic.login('TOKEN')"
   ]
  },
  {
   "cell_type": "code",
   "execution_count": 8,
   "metadata": {},
   "outputs": [
    {
     "name": "stderr",
     "output_type": "stream",
     "text": [
      "Found cached dataset parquet (C:/Users/Adithya/.cache/huggingface/datasets/agency888___parquet/agency888--TaoGPT-v1-d968129c6a8689a1/0.0.0/14a00e99c0d15a23649d0db8944380ac81082d4b021f398733dd84f3a6c569a7)\n"
     ]
    },
    {
     "data": {
      "application/vnd.jupyter.widget-view+json": {
       "model_id": "0769e9cf49594afe9c190d4c3d872e46",
       "version_major": 2,
       "version_minor": 0
      },
      "text/plain": [
       "  0%|          | 0/1 [00:00<?, ?it/s]"
      ]
     },
     "metadata": {},
     "output_type": "display_data"
    },
    {
     "name": "stderr",
     "output_type": "stream",
     "text": [
      "\u001b[32m2023-11-03 19:22:52.527\u001b[0m | \u001b[1mINFO    \u001b[0m | \u001b[36mnomic.project\u001b[0m:\u001b[36m_create_project\u001b[0m:\u001b[36m794\u001b[0m - \u001b[1mCreating project `TaoGPT-v1` in organization `adithyaskolavi`\u001b[0m\n",
      "\u001b[32m2023-11-03 19:22:54.117\u001b[0m | \u001b[33m\u001b[1mWARNING \u001b[0m | \u001b[36mnomic.atlas\u001b[0m:\u001b[36mmap_text\u001b[0m:\u001b[36m241\u001b[0m - \u001b[33m\u001b[1mAn ID field was not specified in your data so one was generated for you in insertion order.\u001b[0m\n",
      "\u001b[32m2023-11-03 19:22:54.118\u001b[0m | \u001b[1mINFO    \u001b[0m | \u001b[36mnomic.atlas\u001b[0m:\u001b[36mmap_text\u001b[0m:\u001b[36m247\u001b[0m - \u001b[1mUploading text to Atlas.\u001b[0m\n",
      "1it [00:01,  1.74s/it]\n",
      "\u001b[32m2023-11-03 19:22:55.875\u001b[0m | \u001b[1mINFO    \u001b[0m | \u001b[36mnomic.project\u001b[0m:\u001b[36m_add_data\u001b[0m:\u001b[36m1427\u001b[0m - \u001b[1mUpload succeeded.\u001b[0m\n",
      "\u001b[32m2023-11-03 19:22:55.880\u001b[0m | \u001b[1mINFO    \u001b[0m | \u001b[36mnomic.atlas\u001b[0m:\u001b[36mmap_text\u001b[0m:\u001b[36m283\u001b[0m - \u001b[1mText upload succeeded.\u001b[0m\n",
      "\u001b[32m2023-11-03 19:22:58.462\u001b[0m | \u001b[1mINFO    \u001b[0m | \u001b[36mnomic.project\u001b[0m:\u001b[36mcreate_index\u001b[0m:\u001b[36m1136\u001b[0m - \u001b[1mCreated map `TaoGPT-v1` in project `TaoGPT-v1`: https://atlas.nomic.ai/map/3d058663-db8b-4b10-9003-044bc79aa864/2b5e9570-0620-467a-8cec-b462853cb3fe\u001b[0m\n",
      "\u001b[32m2023-11-03 19:22:58.464\u001b[0m | \u001b[1mINFO    \u001b[0m | \u001b[36mnomic.atlas\u001b[0m:\u001b[36mmap_text\u001b[0m:\u001b[36m299\u001b[0m - \u001b[1mTaoGPT-v1: https://atlas.nomic.ai/map/3d058663-db8b-4b10-9003-044bc79aa864/2b5e9570-0620-467a-8cec-b462853cb3fe\u001b[0m\n"
     ]
    }
   ],
   "source": [
    "from nomic import atlas\n",
    "import numpy as np\n",
    "from datasets import load_dataset\n",
    "\n",
    "dataset = load_dataset('agency888/TaoGPT-v1')['train']\n",
    "\n",
    "max_documents = 1600\n",
    "subset_idxs = np.random.choice(len(dataset), size=max_documents).tolist()\n",
    "documents = [dataset[i] for i in subset_idxs]\n",
    "\n",
    "\n",
    "project = atlas.map_text(data=documents,\n",
    "                          indexed_field='text',\n",
    "                          name='TaoGPT-v1',\n",
    "                          colorable_fields=['question', 'answer', 'text','text_finetuning','text_mistral'],\n",
    "                          description='A Dataset of Question Answer pairs from TaoScience Research Papers.',\n",
    "                          reset_project_if_exists=True,\n",
    "                          )"
   ]
  }
 ],
 "metadata": {
  "kernelspec": {
   "display_name": "Python 3",
   "language": "python",
   "name": "python3"
  },
  "language_info": {
   "codemirror_mode": {
    "name": "ipython",
    "version": 3
   },
   "file_extension": ".py",
   "mimetype": "text/x-python",
   "name": "python",
   "nbconvert_exporter": "python",
   "pygments_lexer": "ipython3",
   "version": "3.11.0"
  }
 },
 "nbformat": 4,
 "nbformat_minor": 2
}
