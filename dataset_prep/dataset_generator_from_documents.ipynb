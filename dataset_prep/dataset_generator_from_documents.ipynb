{
 "cells": [
  {
   "cell_type": "code",
   "execution_count": 1,
   "metadata": {},
   "outputs": [],
   "source": [
    "# !pip install -q openai\n",
    "# !pip install -q langchain\n",
    "# !pip install -q guardrails-ai\n",
    "# !pip install -q faiss-cpu\n",
    "# !pip install -q pypdf\n",
    "# !pip install -q python-dotenv\n",
    "# !pip install -q datasets\n",
    "# !pip install -q huggingface_hub"
   ]
  },
  {
   "cell_type": "code",
   "execution_count": 1,
   "metadata": {},
   "outputs": [],
   "source": [
    "import os\n",
    "from dotenv import load_dotenv\n",
    "import json\n",
    "\n",
    "from langchain.chains import RetrievalQA\n",
    "from langchain.text_splitter import RecursiveCharacterTextSplitter\n",
    "from langchain.vectorstores import FAISS\n",
    "from langchain.document_loaders import PyPDFDirectoryLoader\n",
    "from langchain.chat_models import ChatOpenAI\n",
    "from langchain.schema import HumanMessage, AIMessage,  SystemMessage\n",
    "\n",
    "#Guardrails\n",
    "import openai\n",
    "from rich import print\n",
    "from langchain.output_parsers import GuardrailsOutputParser\n",
    "from langchain.prompts import PromptTemplate\n",
    "from langchain.llms import OpenAI"
   ]
  },
  {
   "cell_type": "markdown",
   "metadata": {},
   "source": [
    "## Load Environment Varible"
   ]
  },
  {
   "cell_type": "code",
   "execution_count": 2,
   "metadata": {},
   "outputs": [],
   "source": [
    "load_dotenv()\n",
    "openai_api_key = os.environ.get(\"OPENAI_API_KEY\")\n",
    "huggingface_api_key = os.environ.get(\"HUGGINGFACE_API_KEY\")"
   ]
  },
  {
   "cell_type": "markdown",
   "metadata": {},
   "source": [
    "## Loading the Document"
   ]
  },
  {
   "cell_type": "code",
   "execution_count": 3,
   "metadata": {},
   "outputs": [],
   "source": [
    "# loader = PyPDFDirectoryLoader(\"/content/sample_data/Data/\")\n",
    "loader = PyPDFDirectoryLoader(\"../data\")\n",
    "# loader = PyPDFDirectoryLoader(\"../cyber\")\n",
    "data = loader.load()"
   ]
  },
  {
   "cell_type": "code",
   "execution_count": 4,
   "metadata": {},
   "outputs": [
    {
     "data": {
      "text/html": [
       "<pre style=\"white-space:pre;overflow-x:auto;line-height:normal;font-family:Menlo,'DejaVu Sans Mono',consolas,'Courier New',monospace\">© <span style=\"color: #008080; text-decoration-color: #008080; font-weight: bold\">2020</span> . D\n",
       "r. Zhi Gang Sha  &amp; Rulin Xiu . This is a research/review paper, distributed under the ter\n",
       "</pre>\n"
      ],
      "text/plain": [
       "© \u001b[1;36m2020\u001b[0m . D\n",
       "r. Zhi Gang Sha  & Rulin Xiu . This is a research/review paper, distributed under the ter\n"
      ]
     },
     "metadata": {},
     "output_type": "display_data"
    }
   ],
   "source": [
    "print(data[0].page_content[:100])"
   ]
  },
  {
   "cell_type": "code",
   "execution_count": 5,
   "metadata": {},
   "outputs": [
    {
     "data": {
      "text/html": [
       "<pre style=\"white-space:pre;overflow-x:auto;line-height:normal;font-family:Menlo,'DejaVu Sans Mono',consolas,'Courier New',monospace\">Data has been written to Extracted_data.txt\n",
       "</pre>\n"
      ],
      "text/plain": [
       "Data has been written to Extracted_data.txt\n"
      ]
     },
     "metadata": {},
     "output_type": "display_data"
    }
   ],
   "source": [
    "file_name = \"Extracted_data.txt\"\n",
    "\n",
    "# Open the file in write mode\n",
    "with open(file_name, \"w\",encoding=\"utf-8\") as file:\n",
    "    for item in data:\n",
    "        # Extract the \"page_content\" attribute from each item in the list\n",
    "        page_content = item.page_content\n",
    "\n",
    "        # Write the page_content to the file followed by a newline\n",
    "        file.write(page_content + \"\\n\")\n",
    "\n",
    "print(f\"Data has been written to {file_name}\")"
   ]
  },
  {
   "cell_type": "markdown",
   "metadata": {},
   "source": [
    "Chunking the Documents"
   ]
  },
  {
   "cell_type": "code",
   "execution_count": 6,
   "metadata": {},
   "outputs": [
    {
     "data": {
      "text/html": [
       "<pre style=\"white-space:pre;overflow-x:auto;line-height:normal;font-family:Menlo,'DejaVu Sans Mono',consolas,'Courier New',monospace\">Lenth of the whole documentation is: <span style=\"color: #008080; text-decoration-color: #008080; font-weight: bold\">364</span>\n",
       "</pre>\n"
      ],
      "text/plain": [
       "Lenth of the whole documentation is: \u001b[1;36m364\u001b[0m\n"
      ]
     },
     "metadata": {},
     "output_type": "display_data"
    }
   ],
   "source": [
    "#Step 05: Split the Extracted Data into Text Chunks\n",
    "# text_splitter = RecursiveCharacterTextSplitter(chunk_size=1500, chunk_overlap=500)\n",
    "text_splitter = RecursiveCharacterTextSplitter(chunk_size=1500, chunk_overlap=500)\n",
    "text_chunks = text_splitter.split_documents(data)\n",
    "print(\"Lenth of the whole documentation is:\",len(text_chunks))"
   ]
  },
  {
   "cell_type": "markdown",
   "metadata": {},
   "source": [
    "## Prompt template\n",
    "\n",
    "[INPUT TEXT]\n",
    "\n",
    "[CONTEXT ]\n",
    "\n",
    "[REQUEST FOR Q+A]\n",
    "\n",
    "[RESPONSE SAMPLE]\n"
   ]
  },
  {
   "cell_type": "markdown",
   "metadata": {},
   "source": [
    "Getting Context of the Data"
   ]
  },
  {
   "cell_type": "code",
   "execution_count": 7,
   "metadata": {},
   "outputs": [],
   "source": [
    "chat = ChatOpenAI(temperature=0.6) # for sythetic data generation\n",
    "model = OpenAI(temperature=0) # for parsing the output"
   ]
  },
  {
   "cell_type": "code",
   "execution_count": 8,
   "metadata": {},
   "outputs": [
    {
     "data": {
      "text/html": [
       "<pre style=\"white-space:pre;overflow-x:auto;line-height:normal;font-family:Menlo,'DejaVu Sans Mono',consolas,'Courier New',monospace\">Summary: This research paper proposes a concept called Information Mechanics, which suggests that information \n",
       "determines observed phenomena in the universe. The interaction of information space and time creates everything we \n",
       "observe. The paper introduces the information action and function, which represent the maximum possibilities and \n",
       "calculate the possible states in a system, respectively. The study addresses various problems in physics, such as \n",
       "the hierarchy problem, cosmological constant problem, dark matter, dark energy, and black holes, and relates them \n",
       "to the concept of <span style=\"color: #008000; text-decoration-color: #008000\">\"It from Bit.\"</span> Keywords: information mechanics, hierarchy problem, cosmological constant problem,\n",
       "dark matter, dark energy, black hole, it from bit, grand unification theory.\n",
       "</pre>\n"
      ],
      "text/plain": [
       "Summary: This research paper proposes a concept called Information Mechanics, which suggests that information \n",
       "determines observed phenomena in the universe. The interaction of information space and time creates everything we \n",
       "observe. The paper introduces the information action and function, which represent the maximum possibilities and \n",
       "calculate the possible states in a system, respectively. The study addresses various problems in physics, such as \n",
       "the hierarchy problem, cosmological constant problem, dark matter, dark energy, and black holes, and relates them \n",
       "to the concept of \u001b[32m\"It from Bit.\"\u001b[0m Keywords: information mechanics, hierarchy problem, cosmological constant problem,\n",
       "dark matter, dark energy, black hole, it from bit, grand unification theory.\n"
      ]
     },
     "metadata": {},
     "output_type": "display_data"
    }
   ],
   "source": [
    "messages = [\n",
    "    HumanMessage(\n",
    "        content=f\"{data[0].page_content}give the above information give me a single line rich summary with keywords in the beginning which can be used to descibe the entiner inforamtion\"\n",
    "    ),\n",
    "]\n",
    "response = chat(messages)\n",
    "\n",
    "print(response.content)"
   ]
  },
  {
   "cell_type": "markdown",
   "metadata": {},
   "source": [
    "## Generating QnA \n",
    "\n",
    "- *prompt* : provide {questions_per_chunk} question and answer pairs base on the text above , The Question must begin with \\n\"In the context of ...\\\".The answer borrow, verbatim, from the text above. In providing each question consider that the reader does not see of have access to any of the other questions from context. Vary the style and formate fo quesitons. Respond in plain test on a new line for each question and answer. Do not include Do no include qestion numbers, Here is an exmaple of two question and answer paids:\\n\\n {tain_sample}"
   ]
  },
  {
   "cell_type": "code",
   "execution_count": 9,
   "metadata": {},
   "outputs": [],
   "source": [
    "dataset_name = \"TaoGPT-v1.json\"\n",
    "\n",
    "json_response_format = [\n",
    "                {\n",
    "                    \"question\": \"In the context of ...\",\n",
    "                    \"answer\": \"...\"\n",
    "                },\n",
    "                {\n",
    "                    \"question\": \"In the context of ...\",\n",
    "                    \"answer\": \"...\"\n",
    "                },\n",
    "                {\n",
    "                    \"question\": \"In the context of ...\",\n",
    "                    \"answer\": \"...\"\n",
    "                }\n",
    "            ]\n",
    "\n",
    "rail_spec = \"\"\"\n",
    "<rail version=\"0.1\">\n",
    "<output>\n",
    "<list name=\"data\" description=\"list of question answer pairs\">\n",
    "    <object>\n",
    "        <string name=\"question\" description=\"the question\"/>\n",
    "        <string name=\"answer\"  description=\"the answer\"/>\n",
    "    </object>\n",
    "</list>\n",
    "</output>\n",
    "<prompt>\n",
    "\n",
    "Given the following list of json question and answer paids , please extract it in a proper JSON formate \n",
    "${generated_data_json}\n",
    "\n",
    "${gr.complete_json_suffix_v2}\n",
    "</prompt>\n",
    "</rail>\n",
    "\"\"\"\n",
    "def write_to_json_file(json_data, json_file_name):\n",
    "    try:\n",
    "        try:\n",
    "            with open(json_file_name, \"r\") as outfile:\n",
    "                data = json.load(outfile)\n",
    "            for json_data_pairs in json_data:\n",
    "                data.append(json_data_pairs)\n",
    "            with open(json_file_name, \"w\") as outfile:\n",
    "                json.dump(data, outfile)\n",
    "        except FileNotFoundError:\n",
    "            with open(json_file_name, \"w\") as outfile:\n",
    "                json.dump(json_data, outfile)        \n",
    "    except Exception as e:\n",
    "        print(\"Error in write_to_json_file\", e)\n",
    "\n",
    "# def write_to_json_file(json_data_list, json_file_name):\n",
    "#   try:\n",
    "#     with open(json_file_name, \"r\") as outfile:\n",
    "#       data = json.load(outfile)\n",
    "    \n",
    "#     for json_data in json_data_list:\n",
    "#       data.append(json_data)\n",
    "\n",
    "#     with open(json_file_name, \"w\") as outfile: \n",
    "#       json.dump(data, outfile)\n",
    "\n",
    "#   except FileNotFoundError:\n",
    "#     data = json_data_list  \n",
    "#     with open(json_file_name, \"w\") as outfile:\n",
    "#       json.dump(data, outfile)\n",
    "\n",
    "#   except Exception as e:\n",
    "#     print(\"Error in write_to_json_file\", e)"
   ]
  },
  {
   "cell_type": "code",
   "execution_count": 14,
   "metadata": {},
   "outputs": [
    {
     "data": {
      "text/html": [
       "<pre style=\"white-space:pre;overflow-x:auto;line-height:normal;font-family:Menlo,'DejaVu Sans Mono',consolas,'Courier New',monospace\">Summary: This research paper proposes Information Mechanics as a framework to understand the process of <span style=\"color: #008000; text-decoration-color: #008000\">\"It from </span>\n",
       "<span style=\"color: #008000; text-decoration-color: #008000\">Bit,\"</span> where information gives rise to physics. The authors suggest that information determines observed phenomena \n",
       "and introduce information space and time as the basic elements. They derive an action, the information action, and \n",
       "the information function to represent the maximum possibilities of information in a system. This paper provides \n",
       "insights into the dynamics of information and its role in shaping our reality.\n",
       "\n",
       "Keywords: Information Mechanics, It from Bit, observed phenomena, information space, information time, information \n",
       "action, information function.\n",
       "</pre>\n"
      ],
      "text/plain": [
       "Summary: This research paper proposes Information Mechanics as a framework to understand the process of \u001b[32m\"It from \u001b[0m\n",
       "\u001b[32mBit,\"\u001b[0m where information gives rise to physics. The authors suggest that information determines observed phenomena \n",
       "and introduce information space and time as the basic elements. They derive an action, the information action, and \n",
       "the information function to represent the maximum possibilities of information in a system. This paper provides \n",
       "insights into the dynamics of information and its role in shaping our reality.\n",
       "\n",
       "Keywords: Information Mechanics, It from Bit, observed phenomena, information space, information time, information \n",
       "action, information function.\n"
      ]
     },
     "metadata": {},
     "output_type": "display_data"
    },
    {
     "data": {
      "text/html": [
       "<pre style=\"white-space:pre;overflow-x:auto;line-height:normal;font-family:Menlo,'DejaVu Sans Mono',consolas,'Courier New',monospace\"><span style=\"font-weight: bold\">[</span>\n",
       "    <span style=\"font-weight: bold\">{</span>\n",
       "        <span style=\"color: #008000; text-decoration-color: #008000\">'question'</span>: <span style=\"color: #008000; text-decoration-color: #008000\">'In the context of this research paper, what is proposed as a framework to understand the </span>\n",
       "<span style=\"color: #008000; text-decoration-color: #008000\">process of \"It from Bit\"?'</span>,\n",
       "        <span style=\"color: #008000; text-decoration-color: #008000\">'answer'</span>: <span style=\"color: #008000; text-decoration-color: #008000\">'Information Mechanics'</span>\n",
       "    <span style=\"font-weight: bold\">}</span>,\n",
       "    <span style=\"font-weight: bold\">{</span>\n",
       "        <span style=\"color: #008000; text-decoration-color: #008000\">'question'</span>: <span style=\"color: #008000; text-decoration-color: #008000\">'In the context of this research paper, what are the two basic elements introduced to represent</span>\n",
       "<span style=\"color: #008000; text-decoration-color: #008000\">information?'</span>,\n",
       "        <span style=\"color: #008000; text-decoration-color: #008000\">'answer'</span>: <span style=\"color: #008000; text-decoration-color: #008000\">'information space and time'</span>\n",
       "    <span style=\"font-weight: bold\">}</span>,\n",
       "    <span style=\"font-weight: bold\">{</span>\n",
       "        <span style=\"color: #008000; text-decoration-color: #008000\">'question'</span>: <span style=\"color: #008000; text-decoration-color: #008000\">'In the context of this research paper, what does the information action represent?'</span>,\n",
       "        <span style=\"color: #008000; text-decoration-color: #008000\">'answer'</span>: <span style=\"color: #008000; text-decoration-color: #008000\">'the maximum possibilities of information in a system'</span>\n",
       "    <span style=\"font-weight: bold\">}</span>,\n",
       "    <span style=\"font-weight: bold\">{</span>\n",
       "        <span style=\"color: #008000; text-decoration-color: #008000\">'question'</span>: <span style=\"color: #008000; text-decoration-color: #008000\">'In the context of this research paper, what does the information function represent?'</span>,\n",
       "        <span style=\"color: #008000; text-decoration-color: #008000\">'answer'</span>: <span style=\"color: #008000; text-decoration-color: #008000\">'the maximum possibilities of information in a system'</span>\n",
       "    <span style=\"font-weight: bold\">}</span>,\n",
       "    <span style=\"font-weight: bold\">{</span>\n",
       "        <span style=\"color: #008000; text-decoration-color: #008000\">'question'</span>: <span style=\"color: #008000; text-decoration-color: #008000\">'In the context of this research paper, what do the authors suggest determines observed </span>\n",
       "<span style=\"color: #008000; text-decoration-color: #008000\">phenomena?'</span>,\n",
       "        <span style=\"color: #008000; text-decoration-color: #008000\">'answer'</span>: <span style=\"color: #008000; text-decoration-color: #008000\">'information'</span>\n",
       "    <span style=\"font-weight: bold\">}</span>\n",
       "<span style=\"font-weight: bold\">]</span>\n",
       "</pre>\n"
      ],
      "text/plain": [
       "\u001b[1m[\u001b[0m\n",
       "    \u001b[1m{\u001b[0m\n",
       "        \u001b[32m'question'\u001b[0m: \u001b[32m'In the context of this research paper, what is proposed as a framework to understand the \u001b[0m\n",
       "\u001b[32mprocess of \"It from Bit\"?'\u001b[0m,\n",
       "        \u001b[32m'answer'\u001b[0m: \u001b[32m'Information Mechanics'\u001b[0m\n",
       "    \u001b[1m}\u001b[0m,\n",
       "    \u001b[1m{\u001b[0m\n",
       "        \u001b[32m'question'\u001b[0m: \u001b[32m'In the context of this research paper, what are the two basic elements introduced to represent\u001b[0m\n",
       "\u001b[32minformation?'\u001b[0m,\n",
       "        \u001b[32m'answer'\u001b[0m: \u001b[32m'information space and time'\u001b[0m\n",
       "    \u001b[1m}\u001b[0m,\n",
       "    \u001b[1m{\u001b[0m\n",
       "        \u001b[32m'question'\u001b[0m: \u001b[32m'In the context of this research paper, what does the information action represent?'\u001b[0m,\n",
       "        \u001b[32m'answer'\u001b[0m: \u001b[32m'the maximum possibilities of information in a system'\u001b[0m\n",
       "    \u001b[1m}\u001b[0m,\n",
       "    \u001b[1m{\u001b[0m\n",
       "        \u001b[32m'question'\u001b[0m: \u001b[32m'In the context of this research paper, what does the information function represent?'\u001b[0m,\n",
       "        \u001b[32m'answer'\u001b[0m: \u001b[32m'the maximum possibilities of information in a system'\u001b[0m\n",
       "    \u001b[1m}\u001b[0m,\n",
       "    \u001b[1m{\u001b[0m\n",
       "        \u001b[32m'question'\u001b[0m: \u001b[32m'In the context of this research paper, what do the authors suggest determines observed \u001b[0m\n",
       "\u001b[32mphenomena?'\u001b[0m,\n",
       "        \u001b[32m'answer'\u001b[0m: \u001b[32m'information'\u001b[0m\n",
       "    \u001b[1m}\u001b[0m\n",
       "\u001b[1m]\u001b[0m\n"
      ]
     },
     "metadata": {},
     "output_type": "display_data"
    },
    {
     "data": {
      "text/html": [
       "<pre style=\"white-space:pre;overflow-x:auto;line-height:normal;font-family:Menlo,'DejaVu Sans Mono',consolas,'Courier New',monospace\">\n",
       "---------------------------------------------------\n",
       "\n",
       "</pre>\n"
      ],
      "text/plain": [
       "\n",
       "---------------------------------------------------\n",
       "\n"
      ]
     },
     "metadata": {},
     "output_type": "display_data"
    },
    {
     "data": {
      "text/html": [
       "<pre style=\"white-space:pre;overflow-x:auto;line-height:normal;font-family:Menlo,'DejaVu Sans Mono',consolas,'Courier New',monospace\">The interaction of information space and time creates everything we observe, leading to the development of \n",
       "information mechanics. This theory addresses various phenomena such as the hierarchy problem, cosmological constant\n",
       "problem, dark matter, dark energy, black holes, and the concept of <span style=\"color: #008000; text-decoration-color: #008000\">\"it from bit.\"</span> The information action and \n",
       "information function play crucial roles in understanding the maximum possibilities and possible states within a \n",
       "system. Keywords: information mechanics, hierarchy problem, cosmological constant problem, dark matter, dark \n",
       "energy, black hole, it from bit, grand unification theory.\n",
       "</pre>\n"
      ],
      "text/plain": [
       "The interaction of information space and time creates everything we observe, leading to the development of \n",
       "information mechanics. This theory addresses various phenomena such as the hierarchy problem, cosmological constant\n",
       "problem, dark matter, dark energy, black holes, and the concept of \u001b[32m\"it from bit.\"\u001b[0m The information action and \n",
       "information function play crucial roles in understanding the maximum possibilities and possible states within a \n",
       "system. Keywords: information mechanics, hierarchy problem, cosmological constant problem, dark matter, dark \n",
       "energy, black hole, it from bit, grand unification theory.\n"
      ]
     },
     "metadata": {},
     "output_type": "display_data"
    },
    {
     "data": {
      "text/html": [
       "<pre style=\"white-space:pre;overflow-x:auto;line-height:normal;font-family:Menlo,'DejaVu Sans Mono',consolas,'Courier New',monospace\"><span style=\"font-weight: bold\">[</span>\n",
       "    <span style=\"font-weight: bold\">{</span>\n",
       "        <span style=\"color: #008000; text-decoration-color: #008000\">'question'</span>: <span style=\"color: #008000; text-decoration-color: #008000\">'In the context of information mechanics, what does the information action represent?'</span>,\n",
       "        <span style=\"color: #008000; text-decoration-color: #008000\">'answer'</span>: <span style=\"color: #008000; text-decoration-color: #008000\">'The information action represents the maximum possibilities, i.e., information, in a system.'</span>\n",
       "    <span style=\"font-weight: bold\">}</span>,\n",
       "    <span style=\"font-weight: bold\">{</span>\n",
       "        <span style=\"color: #008000; text-decoration-color: #008000\">'question'</span>: <span style=\"color: #008000; text-decoration-color: #008000\">'In the context of information mechanics, what does the information function calculate?'</span>,\n",
       "        <span style=\"color: #008000; text-decoration-color: #008000\">'answer'</span>: <span style=\"color: #008000; text-decoration-color: #008000\">'The information function calculates the possible states in a system.'</span>\n",
       "    <span style=\"font-weight: bold\">}</span>,\n",
       "    <span style=\"font-weight: bold\">{</span>\n",
       "        <span style=\"color: #008000; text-decoration-color: #008000\">'question'</span>: <span style=\"color: #008000; text-decoration-color: #008000\">'In the context of information mechanics, what are some phenomena addressed by this theory?'</span>,\n",
       "        <span style=\"color: #008000; text-decoration-color: #008000\">'answer'</span>: <span style=\"color: #008000; text-decoration-color: #008000\">'The theory addresses various phenomena such as the hierarchy problem, cosmological constant </span>\n",
       "<span style=\"color: #008000; text-decoration-color: #008000\">problem, dark matter, dark energy, black holes, and the concept of \"it from bit.\"'</span>\n",
       "    <span style=\"font-weight: bold\">}</span>,\n",
       "    <span style=\"font-weight: bold\">{</span>\n",
       "        <span style=\"color: #008000; text-decoration-color: #008000\">'question'</span>: <span style=\"color: #008000; text-decoration-color: #008000\">'In the context of information mechanics, what are the two basic elements making up </span>\n",
       "<span style=\"color: #008000; text-decoration-color: #008000\">information?'</span>,\n",
       "        <span style=\"color: #008000; text-decoration-color: #008000\">'answer'</span>: <span style=\"color: #008000; text-decoration-color: #008000\">'The two basic elements making up information are information space and time.'</span>\n",
       "    <span style=\"font-weight: bold\">}</span>,\n",
       "    <span style=\"font-weight: bold\">{</span>\n",
       "        <span style=\"color: #008000; text-decoration-color: #008000\">'question'</span>: <span style=\"color: #008000; text-decoration-color: #008000\">'In the context of information mechanics, what theory does the information action appear to be </span>\n",
       "<span style=\"color: #008000; text-decoration-color: #008000\">similar to?'</span>,\n",
       "        <span style=\"color: #008000; text-decoration-color: #008000\">'answer'</span>: <span style=\"color: #008000; text-decoration-color: #008000\">'The information action appears to be similar to the string action in string theory and </span>\n",
       "<span style=\"color: #008000; text-decoration-color: #008000\">superstring theory but with a different meaning.'</span>\n",
       "    <span style=\"font-weight: bold\">}</span>\n",
       "<span style=\"font-weight: bold\">]</span>\n",
       "</pre>\n"
      ],
      "text/plain": [
       "\u001b[1m[\u001b[0m\n",
       "    \u001b[1m{\u001b[0m\n",
       "        \u001b[32m'question'\u001b[0m: \u001b[32m'In the context of information mechanics, what does the information action represent?'\u001b[0m,\n",
       "        \u001b[32m'answer'\u001b[0m: \u001b[32m'The information action represents the maximum possibilities, i.e., information, in a system.'\u001b[0m\n",
       "    \u001b[1m}\u001b[0m,\n",
       "    \u001b[1m{\u001b[0m\n",
       "        \u001b[32m'question'\u001b[0m: \u001b[32m'In the context of information mechanics, what does the information function calculate?'\u001b[0m,\n",
       "        \u001b[32m'answer'\u001b[0m: \u001b[32m'The information function calculates the possible states in a system.'\u001b[0m\n",
       "    \u001b[1m}\u001b[0m,\n",
       "    \u001b[1m{\u001b[0m\n",
       "        \u001b[32m'question'\u001b[0m: \u001b[32m'In the context of information mechanics, what are some phenomena addressed by this theory?'\u001b[0m,\n",
       "        \u001b[32m'answer'\u001b[0m: \u001b[32m'The theory addresses various phenomena such as the hierarchy problem, cosmological constant \u001b[0m\n",
       "\u001b[32mproblem, dark matter, dark energy, black holes, and the concept of \"it from bit.\"'\u001b[0m\n",
       "    \u001b[1m}\u001b[0m,\n",
       "    \u001b[1m{\u001b[0m\n",
       "        \u001b[32m'question'\u001b[0m: \u001b[32m'In the context of information mechanics, what are the two basic elements making up \u001b[0m\n",
       "\u001b[32minformation?'\u001b[0m,\n",
       "        \u001b[32m'answer'\u001b[0m: \u001b[32m'The two basic elements making up information are information space and time.'\u001b[0m\n",
       "    \u001b[1m}\u001b[0m,\n",
       "    \u001b[1m{\u001b[0m\n",
       "        \u001b[32m'question'\u001b[0m: \u001b[32m'In the context of information mechanics, what theory does the information action appear to be \u001b[0m\n",
       "\u001b[32msimilar to?'\u001b[0m,\n",
       "        \u001b[32m'answer'\u001b[0m: \u001b[32m'The information action appears to be similar to the string action in string theory and \u001b[0m\n",
       "\u001b[32msuperstring theory but with a different meaning.'\u001b[0m\n",
       "    \u001b[1m}\u001b[0m\n",
       "\u001b[1m]\u001b[0m\n"
      ]
     },
     "metadata": {},
     "output_type": "display_data"
    },
    {
     "data": {
      "text/html": [
       "<pre style=\"white-space:pre;overflow-x:auto;line-height:normal;font-family:Menlo,'DejaVu Sans Mono',consolas,'Courier New',monospace\">\n",
       "---------------------------------------------------\n",
       "\n",
       "</pre>\n"
      ],
      "text/plain": [
       "\n",
       "---------------------------------------------------\n",
       "\n"
      ]
     },
     "metadata": {},
     "output_type": "display_data"
    }
   ],
   "source": [
    "for text in text_chunks[:2]:\n",
    "    try:\n",
    "        context_messages = [\n",
    "            HumanMessage(\n",
    "                content=f\"{text.page_content}give the above information give me a single line rich summary with keywords in the beginning which can be used to descibe the entiner inforamtion\"\n",
    "            ),\n",
    "        ]\n",
    "        context_response = chat(context_messages)\n",
    "        print(context_response.content)\n",
    "        try:\n",
    "            generated_messages = [\n",
    "                HumanMessage(\n",
    "                    content=f\"\"\"given the context:{context_response} \n",
    "                    and the information {text.page_content} provide 5 question and answer pairs base on the text above , \n",
    "                    The Question must begin with \n",
    "                    \"In the context of ...\\\".The answer borrow, verbatim, from the text above. In providing each question consider that the reader does not see of have access to any of the other questions from context. Vary the style and formate fo quesitons. \n",
    "                    Respond in only JSON following this formate\n",
    "                    {json_response_format} and nothing else\"\"\"\n",
    "                ),\n",
    "            ]\n",
    "            generated_response = chat(generated_messages)\n",
    "            try:\n",
    "                eval_generated_json = eval(generated_response.content)\n",
    "                if len(eval_generated_json) >= 1:\n",
    "                    write_to_json_file(eval_generated_json, dataset_name)\n",
    "                    print(eval_generated_json)\n",
    "                else:\n",
    "                    raise Exception(\"Data generated not in the right format\")\n",
    "            except:\n",
    "                # output_parser = GuardrailsOutputParser.from_rail_string(extractor_rail)\n",
    "                output_parser = GuardrailsOutputParser.from_rail_string(rail_spec, api=openai.ChatCompletion.create)\n",
    "                prompt = PromptTemplate(\n",
    "                    template=output_parser.guard.base_prompt,\n",
    "                    input_variables=output_parser.guard.prompt.variable_names,\n",
    "                )\n",
    "\n",
    "                model = OpenAI(temperature=0) # type: ignore\n",
    "                generated_response_final = model(prompt.format_prompt(generated_data_json=generated_response.content).to_string())\n",
    "                generated_response_final = output_parser.parse(generated_response_final)\n",
    "                generated_response_final = generated_response_final[\"data\"]\n",
    "                print(generated_response_final)                \n",
    "                write_to_json_file(generated_response_final, dataset_name)\n",
    "        except:\n",
    "            print(\"Error in generating the data\")\n",
    "    except Exception as e:\n",
    "        print(\"Failed to get context of the text\")\n",
    "    print(\"\\n---------------------------------------------------\\n\")\n",
    "    \n"
   ]
  },
  {
   "cell_type": "markdown",
   "metadata": {},
   "source": [
    "## HuggingFace"
   ]
  },
  {
   "cell_type": "code",
   "execution_count": 15,
   "metadata": {},
   "outputs": [],
   "source": [
    "from huggingface_hub import notebook_login\n",
    "from huggingface_hub import HfApi\n",
    "from datasets import load_dataset\n",
    "api = HfApi(token=huggingface_api_key)\n"
   ]
  },
  {
   "cell_type": "code",
   "execution_count": 16,
   "metadata": {},
   "outputs": [
    {
     "name": "stdout",
     "output_type": "stream",
     "text": [
      "Downloading and preparing dataset json/default to C:/Users/Adithya/.cache/huggingface/datasets/json/default-08b5836d41bc1055/0.0.0/8bb11242116d547c741b2e8a1f18598ffdd40a1d4f2a2872c7a28b697434bc96...\n"
     ]
    },
    {
     "data": {
      "application/vnd.jupyter.widget-view+json": {
       "model_id": "bbd7732e239647a1b7abe2841cdfc3a5",
       "version_major": 2,
       "version_minor": 0
      },
      "text/plain": [
       "Downloading data files:   0%|          | 0/1 [00:00<?, ?it/s]"
      ]
     },
     "metadata": {},
     "output_type": "display_data"
    },
    {
     "data": {
      "application/vnd.jupyter.widget-view+json": {
       "model_id": "e39873d6bbcd4ca0bfae736c20d5b624",
       "version_major": 2,
       "version_minor": 0
      },
      "text/plain": [
       "Extracting data files:   0%|          | 0/1 [00:00<?, ?it/s]"
      ]
     },
     "metadata": {},
     "output_type": "display_data"
    },
    {
     "data": {
      "application/vnd.jupyter.widget-view+json": {
       "model_id": "fee81fa47c0544748d32a07441ba1b74",
       "version_major": 2,
       "version_minor": 0
      },
      "text/plain": [
       "Generating train split: 0 examples [00:00, ? examples/s]"
      ]
     },
     "metadata": {},
     "output_type": "display_data"
    },
    {
     "name": "stdout",
     "output_type": "stream",
     "text": [
      "Dataset json downloaded and prepared to C:/Users/Adithya/.cache/huggingface/datasets/json/default-08b5836d41bc1055/0.0.0/8bb11242116d547c741b2e8a1f18598ffdd40a1d4f2a2872c7a28b697434bc96. Subsequent calls will reuse this data.\n"
     ]
    },
    {
     "data": {
      "application/vnd.jupyter.widget-view+json": {
       "model_id": "41d043cf640048b7bf274a1d2573e95b",
       "version_major": 2,
       "version_minor": 0
      },
      "text/plain": [
       "  0%|          | 0/1 [00:00<?, ?it/s]"
      ]
     },
     "metadata": {},
     "output_type": "display_data"
    },
    {
     "data": {
      "text/plain": [
       "DatasetDict({\n",
       "    train: Dataset({\n",
       "        features: ['question', 'answer'],\n",
       "        num_rows: 20\n",
       "    })\n",
       "})"
      ]
     },
     "execution_count": 16,
     "metadata": {},
     "output_type": "execute_result"
    }
   ],
   "source": [
    "dataset = load_dataset('json', data_files=\"./TaoGPT-v1.json\")\n",
    "dataset"
   ]
  },
  {
   "cell_type": "code",
   "execution_count": 17,
   "metadata": {},
   "outputs": [
    {
     "name": "stderr",
     "output_type": "stream",
     "text": [
      "Pushing split train to the Hub.\n"
     ]
    },
    {
     "data": {
      "application/vnd.jupyter.widget-view+json": {
       "model_id": "70c3e76e77a44f5f99df71794cfe3a79",
       "version_major": 2,
       "version_minor": 0
      },
      "text/plain": [
       "Pushing dataset shards to the dataset hub:   0%|          | 0/1 [00:00<?, ?it/s]"
      ]
     },
     "metadata": {},
     "output_type": "display_data"
    },
    {
     "data": {
      "application/vnd.jupyter.widget-view+json": {
       "model_id": "47f1267ae0c24fe298704341d60e881a",
       "version_major": 2,
       "version_minor": 0
      },
      "text/plain": [
       "Creating parquet from Arrow format:   0%|          | 0/1 [00:00<?, ?ba/s]"
      ]
     },
     "metadata": {},
     "output_type": "display_data"
    },
    {
     "data": {
      "application/vnd.jupyter.widget-view+json": {
       "model_id": "9854ad412c3c417aa7c9ec533eeba958",
       "version_major": 2,
       "version_minor": 0
      },
      "text/plain": [
       "Upload 1 LFS files:   0%|          | 0/1 [00:00<?, ?it/s]"
      ]
     },
     "metadata": {},
     "output_type": "display_data"
    },
    {
     "data": {
      "application/vnd.jupyter.widget-view+json": {
       "model_id": "0711d434a9344ed1b25b588ce9391525",
       "version_major": 2,
       "version_minor": 0
      },
      "text/plain": [
       "Deleting unused files from dataset repository:   0%|          | 0/1 [00:00<?, ?it/s]"
      ]
     },
     "metadata": {},
     "output_type": "display_data"
    },
    {
     "data": {
      "application/vnd.jupyter.widget-view+json": {
       "model_id": "b960c04c4d554ccfa8585ec6926b9b82",
       "version_major": 2,
       "version_minor": 0
      },
      "text/plain": [
       "Downloading metadata:   0%|          | 0.00/1.64k [00:00<?, ?B/s]"
      ]
     },
     "metadata": {},
     "output_type": "display_data"
    }
   ],
   "source": [
    "# dataset.push_to_hub(\"Dataset name\")\n",
    "dataset.push_to_hub(\"agency888/TaoGPT-v1\")"
   ]
  },
  {
   "cell_type": "code",
   "execution_count": 26,
   "metadata": {},
   "outputs": [
    {
     "data": {
      "text/plain": [
       "'https://huggingface.co/datasets/agency888/TaoGPT-v1/blob/main/TaoGPT-v1.json'"
      ]
     },
     "execution_count": 26,
     "metadata": {},
     "output_type": "execute_result"
    }
   ],
   "source": [
    "# Pushing Dataset.json\n",
    "api.upload_file(\n",
    "    path_or_fileobj=\"./TaoGPT-v1.json\",\n",
    "    path_in_repo=\"TaoGPT-v1.json\",\n",
    "    repo_id=\"agency888/TaoGPT-v1\",\n",
    "    repo_type=\"dataset\",\n",
    ")"
   ]
  },
  {
   "cell_type": "code",
   "execution_count": 28,
   "metadata": {},
   "outputs": [
    {
     "data": {
      "text/plain": [
       "'https://huggingface.co/datasets/agency888/TaoGPT-v1/blob/main/README.md'"
      ]
     },
     "execution_count": 28,
     "metadata": {},
     "output_type": "execute_result"
    }
   ],
   "source": [
    "# Pushing Dataset Readme\n",
    "api.upload_file(\n",
    "    path_or_fileobj=\"./README.md\",\n",
    "    path_in_repo=\"README.md\",\n",
    "    repo_id=\"agency888/TaoGPT-v1\",\n",
    "    repo_type=\"dataset\",\n",
    ")"
   ]
  }
 ],
 "metadata": {
  "kernelspec": {
   "display_name": "Python 3",
   "language": "python",
   "name": "python3"
  },
  "language_info": {
   "codemirror_mode": {
    "name": "ipython",
    "version": 3
   },
   "file_extension": ".py",
   "mimetype": "text/x-python",
   "name": "python",
   "nbconvert_exporter": "python",
   "pygments_lexer": "ipython3",
   "version": "3.11.0"
  }
 },
 "nbformat": 4,
 "nbformat_minor": 2
}
